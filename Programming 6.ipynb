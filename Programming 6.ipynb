{
 "cells": [
  {
   "cell_type": "markdown",
   "metadata": {},
   "source": [
    "1.Write a Python Program to Display Fibonacci Sequence Using Recursion?"
   ]
  },
  {
   "cell_type": "code",
   "execution_count": 2,
   "metadata": {},
   "outputs": [
    {
     "name": "stdout",
     "output_type": "stream",
     "text": [
      "Enter the term upto you want the series: 10\n",
      "0\n",
      "1\n",
      "1\n",
      "2\n",
      "3\n",
      "5\n",
      "8\n",
      "13\n",
      "21\n",
      "34\n"
     ]
    }
   ],
   "source": [
    "def fibonacci(n):\n",
    "    if n==0:\n",
    "        return n\n",
    "    elif n==1:\n",
    "        return n\n",
    "    else:\n",
    "        return fibonacci(n - 1) + fibonacci(n - 2)\n",
    "term=int(input(\"Enter the term upto you want the series: \"))\n",
    "for i in range(term):\n",
    "    print(fibonacci(i))"
   ]
  },
  {
   "cell_type": "markdown",
   "metadata": {},
   "source": [
    "2.Write a Python Program to Find Factorial of Number Using Recursion?"
   ]
  },
  {
   "cell_type": "code",
   "execution_count": 4,
   "metadata": {},
   "outputs": [
    {
     "name": "stdout",
     "output_type": "stream",
     "text": [
      "enter the number to see its factorial: 10\n",
      "3628800\n"
     ]
    }
   ],
   "source": [
    "def fact(n):\n",
    "    if n==0:\n",
    "        return 1\n",
    "    elif n==1:\n",
    "        return 1\n",
    "    else:\n",
    "        return n*fact(n-1)\n",
    "x=int(input(\"enter the number to see its factorial: \"))\n",
    "print(fact(x))"
   ]
  },
  {
   "cell_type": "markdown",
   "metadata": {},
   "source": [
    "3.Write a Python Program to calculate your Body Mass Index?"
   ]
  },
  {
   "cell_type": "code",
   "execution_count": 8,
   "metadata": {},
   "outputs": [
    {
     "name": "stdout",
     "output_type": "stream",
     "text": [
      "Enter height in meters: .137\n",
      "Enter weight in kg: 48\n",
      "Your BMI is: 2557.408492727369 and you are: severely overweight\n"
     ]
    }
   ],
   "source": [
    "height = float(input(\"Enter height in meters: \"))\n",
    "weight = float(input(\"Enter weight in kg: \"))\n",
    "\n",
    "bmi = weight/(height**2) \n",
    "\n",
    "print(\"Your BMI is: {} and you are: \".format(bmi), end='')\n",
    "\n",
    "if ( bmi < 16):\n",
    "   print(\"severely underweight\")\n",
    "\n",
    "elif ( bmi >= 16 and bmi < 18.5):\n",
    "   print(\"underweight\")\n",
    "\n",
    "elif ( bmi >= 18.5 and bmi < 25):\n",
    "   print(\"Healthy\")\n",
    "\n",
    "elif ( bmi >= 25 and bmi < 30):\n",
    "   print(\"overweight\")\n",
    "\n",
    "elif ( bmi >=30):\n",
    "   print(\"severely overweight\")"
   ]
  },
  {
   "cell_type": "markdown",
   "metadata": {},
   "source": [
    "4.Write a Python Program to calculate the natural logarithm of any number?"
   ]
  },
  {
   "cell_type": "code",
   "execution_count": 9,
   "metadata": {},
   "outputs": [
    {
     "name": "stdout",
     "output_type": "stream",
     "text": [
      "enter the number whose natural logarithm you want to find: 45\n",
      "Natural logarithm of  45 is :  2.6390573296152584\n"
     ]
    }
   ],
   "source": [
    "import math\n",
    "x=int(input(\"enter the number whose natural logarithm you want to find: \"))\n",
    "y=math.log(14)\n",
    "print (\"Natural logarithm of \", x, \"is : \", y)"
   ]
  },
  {
   "cell_type": "markdown",
   "metadata": {},
   "source": [
    "5.Write a Python Program for cube sum of first n natural numbers?"
   ]
  },
  {
   "cell_type": "code",
   "execution_count": 10,
   "metadata": {},
   "outputs": [
    {
     "name": "stdout",
     "output_type": "stream",
     "text": [
      "enter the number to find the sum of their cubes: 15\n",
      "14400\n"
     ]
    }
   ],
   "source": [
    "x=int(input(\"enter the number to find the sum of their cubes: \"))\n",
    "sum=0\n",
    "for i in range(1,x+1):\n",
    "    sum += i**3\n",
    "print(sum)"
   ]
  }
 ],
 "metadata": {
  "kernelspec": {
   "display_name": "Python 3",
   "language": "python",
   "name": "python3"
  },
  "language_info": {
   "codemirror_mode": {
    "name": "ipython",
    "version": 3
   },
   "file_extension": ".py",
   "mimetype": "text/x-python",
   "name": "python",
   "nbconvert_exporter": "python",
   "pygments_lexer": "ipython3",
   "version": "3.8.5"
  }
 },
 "nbformat": 4,
 "nbformat_minor": 4
}
