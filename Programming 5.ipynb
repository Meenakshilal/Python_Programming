{
 "cells": [
  {
   "cell_type": "markdown",
   "metadata": {},
   "source": [
    "1.Write a Python Program to Find LCM?"
   ]
  },
  {
   "cell_type": "code",
   "execution_count": 3,
   "metadata": {},
   "outputs": [
    {
     "name": "stdout",
     "output_type": "stream",
     "text": [
      "Enter the first number: 52\n",
      "Enter the second number: 66\n",
      "LCM of the two numbers is:  1716\n"
     ]
    }
   ],
   "source": [
    "a = int(input(\"Enter the first number: \"))\n",
    "b = int(input(\"Enter the second number: \"))\n",
    "HCM = 1\n",
    "\n",
    "for i in range(2,a+1):\n",
    "    if(a%i == 0 and b%i == 0):\n",
    "        HCF = i\n",
    "LCM = int((a*b)/(HCF))\n",
    "print(\"LCM of the two numbers is: \",LCM)"
   ]
  },
  {
   "cell_type": "markdown",
   "metadata": {},
   "source": [
    "2.Write a Python Program to Find HCF?"
   ]
  },
  {
   "cell_type": "code",
   "execution_count": 2,
   "metadata": {},
   "outputs": [
    {
     "name": "stdout",
     "output_type": "stream",
     "text": [
      "Enter the first number: 75\n",
      "Enter the second number: 50\n",
      "First Number is:  75\n",
      "Second Number is:  50\n",
      "HCF of the numbers is:  25\n"
     ]
    }
   ],
   "source": [
    "a = int(input(\"Enter the first number: \"))\n",
    "b = int(input(\"Enter the second number: \"))\n",
    " \n",
    "HCF = 1\n",
    " \n",
    "for i in range(2,a+1):\n",
    "    if(a%i==0 and b%i==0):\n",
    "        HCF = i\n",
    " \n",
    "print(\"First Number is: \",a)\n",
    "print(\"Second Number is: \",b)\n",
    "print(\"HCF of the numbers is: \",HCF)"
   ]
  },
  {
   "cell_type": "markdown",
   "metadata": {},
   "source": [
    "3.Write a Python Program to Convert Decimal to Binary, Octal and Hexadecimal?"
   ]
  },
  {
   "cell_type": "code",
   "execution_count": 5,
   "metadata": {},
   "outputs": [
    {
     "name": "stdout",
     "output_type": "stream",
     "text": [
      "Enter the number: 45\n",
      "The binary form of  45 is  0b101101\n",
      "The Octal form of  45 is  0o55\n",
      "The Hexadecimal form of  45 is  0x2d\n"
     ]
    }
   ],
   "source": [
    "a = int(input(\"Enter the number: \"))\n",
    "b= bin(a)\n",
    "c= oct(a)\n",
    "d= hex(a)\n",
    "\n",
    "print('The binary form of ', a , 'is ', b )\n",
    "\n",
    "print('The Octal form of ', a , 'is ', c )\n",
    "\n",
    "print('The Hexadecimal form of ', a , 'is ', d )\n"
   ]
  },
  {
   "cell_type": "markdown",
   "metadata": {},
   "source": [
    "4.Write a Python Program To Find ASCII value of a character?"
   ]
  },
  {
   "cell_type": "code",
   "execution_count": 6,
   "metadata": {},
   "outputs": [
    {
     "name": "stdout",
     "output_type": "stream",
     "text": [
      "Enter any character: A\n",
      "The ASCII code for  A is  65\n"
     ]
    }
   ],
   "source": [
    "a = input(\"Enter any character: \")\n",
    "b= ord(a)\n",
    "print (\"The ASCII code for \", a, 'is ', b)"
   ]
  },
  {
   "cell_type": "markdown",
   "metadata": {},
   "source": [
    "5.Write a Python Program to Make a Simple Calculator with 4 basic mathematical operations?"
   ]
  },
  {
   "cell_type": "code",
   "execution_count": 10,
   "metadata": {},
   "outputs": [
    {
     "name": "stdout",
     "output_type": "stream",
     "text": [
      "Enter the first number: 15\n",
      "Enter the second number: 20\n",
      "Operations guide:\n",
      "Select 1 for Addition\n",
      "Select 2 for Sustraction\n",
      "Select 3 for Multiplication\n",
      "Select 4 for Division\n",
      "please select any one of these operation given above: 5\n",
      "enter the currect operation number: 1\n",
      "15  +  20  =  35\n"
     ]
    }
   ],
   "source": [
    "a = int(input(\"Enter the first number: \"))\n",
    "b = int(input(\"Enter the second number: \"))\n",
    "\n",
    "print(\"Operations guide:\")\n",
    "print(\"Select 1 for Addition\")\n",
    "print(\"Select 2 for Sustraction\")\n",
    "print(\"Select 3 for Multiplication\")\n",
    "print(\"Select 4 for Division\")\n",
    "\n",
    "x=int(input(\"please select any one of these operation given above: \"))\n",
    "while x >0:\n",
    "    if x==1:\n",
    "        print (a, \" + \",b, \" = \", a+b )\n",
    "        break\n",
    "    elif x== 2 :\n",
    "        print (a, \" - \",b, \" = \", a-b )\n",
    "        break\n",
    "    elif x == 3:\n",
    "        print (a, \" x \",b, \" = \", a*b )\n",
    "        break\n",
    "    elif x==4:\n",
    "        print (a, \" / \",b, \" = \", a/b )\n",
    "        break\n",
    "    else:\n",
    "        x = int(input(\"enter the currect operation number: \"))"
   ]
  }
 ],
 "metadata": {
  "kernelspec": {
   "display_name": "Python 3",
   "language": "python",
   "name": "python3"
  },
  "language_info": {
   "codemirror_mode": {
    "name": "ipython",
    "version": 3
   },
   "file_extension": ".py",
   "mimetype": "text/x-python",
   "name": "python",
   "nbconvert_exporter": "python",
   "pygments_lexer": "ipython3",
   "version": "3.8.5"
  }
 },
 "nbformat": 4,
 "nbformat_minor": 4
}
