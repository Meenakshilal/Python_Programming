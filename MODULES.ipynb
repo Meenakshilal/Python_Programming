{
 "cells": [
  {
   "cell_type": "code",
   "execution_count": 1,
   "id": "ef50d4c5",
   "metadata": {},
   "outputs": [],
   "source": [
    "import os"
   ]
  },
  {
   "cell_type": "markdown",
   "id": "557eec26",
   "metadata": {},
   "source": [
    "### create a file with py extension containing the function which you want to make module "
   ]
  },
  {
   "cell_type": "code",
   "execution_count": 2,
   "id": "299e932c",
   "metadata": {},
   "outputs": [],
   "source": [
    "import test  ## now import the py file name"
   ]
  },
  {
   "cell_type": "code",
   "execution_count": 3,
   "id": "37856424",
   "metadata": {},
   "outputs": [
    {
     "data": {
      "text/plain": [
       "7"
      ]
     },
     "execution_count": 3,
     "metadata": {},
     "output_type": "execute_result"
    }
   ],
   "source": [
    "test.test(2,5)    ## call the function name with file name\n",
    "## it can be used in any python as we have created a module"
   ]
  },
  {
   "cell_type": "code",
   "execution_count": 1,
   "id": "4819bdd4",
   "metadata": {},
   "outputs": [],
   "source": [
    "import test"
   ]
  },
  {
   "cell_type": "code",
   "execution_count": 2,
   "id": "2ba843b5",
   "metadata": {},
   "outputs": [
    {
     "data": {
      "text/plain": [
       "11"
      ]
     },
     "execution_count": 2,
     "metadata": {},
     "output_type": "execute_result"
    }
   ],
   "source": [
    "test.test(5,6)"
   ]
  },
  {
   "cell_type": "code",
   "execution_count": 3,
   "id": "9fa9f6bc",
   "metadata": {},
   "outputs": [
    {
     "data": {
      "text/plain": [
       "-1"
      ]
     },
     "execution_count": 3,
     "metadata": {},
     "output_type": "execute_result"
    }
   ],
   "source": [
    "test.test1(5,6)"
   ]
  },
  {
   "cell_type": "code",
   "execution_count": 4,
   "id": "14ed55a6",
   "metadata": {},
   "outputs": [
    {
     "data": {
      "text/plain": [
       "30"
      ]
     },
     "execution_count": 4,
     "metadata": {},
     "output_type": "execute_result"
    }
   ],
   "source": [
    "test.test2(5,6)"
   ]
  },
  {
   "cell_type": "code",
   "execution_count": 5,
   "id": "18503a62",
   "metadata": {},
   "outputs": [
    {
     "data": {
      "text/plain": [
       "0.8333333333333334"
      ]
     },
     "execution_count": 5,
     "metadata": {},
     "output_type": "execute_result"
    }
   ],
   "source": [
    "test.test3(5,6)"
   ]
  },
  {
   "cell_type": "markdown",
   "id": "eb1554e2",
   "metadata": {},
   "source": [
    "### to call only some functions from the module"
   ]
  },
  {
   "cell_type": "code",
   "execution_count": 7,
   "id": "f3f706d6",
   "metadata": {},
   "outputs": [],
   "source": [
    "from test import test3"
   ]
  },
  {
   "cell_type": "code",
   "execution_count": 8,
   "id": "1528a283",
   "metadata": {},
   "outputs": [
    {
     "data": {
      "text/plain": [
       "0.625"
      ]
     },
     "execution_count": 8,
     "metadata": {},
     "output_type": "execute_result"
    }
   ],
   "source": [
    "test3(5,8)"
   ]
  },
  {
   "cell_type": "code",
   "execution_count": 9,
   "id": "35b51d1f",
   "metadata": {},
   "outputs": [],
   "source": [
    "from test import *          ### to import everything from the module"
   ]
  },
  {
   "cell_type": "code",
   "execution_count": 10,
   "id": "1fef1a94",
   "metadata": {},
   "outputs": [
    {
     "data": {
      "text/plain": [
       "48"
      ]
     },
     "execution_count": 10,
     "metadata": {},
     "output_type": "execute_result"
    }
   ],
   "source": [
    "test2(8,6)"
   ]
  },
  {
   "cell_type": "code",
   "execution_count": null,
   "id": "0b1b94e7",
   "metadata": {},
   "outputs": [],
   "source": []
  }
 ],
 "metadata": {
  "kernelspec": {
   "display_name": "Python 3 (ipykernel)",
   "language": "python",
   "name": "python3"
  },
  "language_info": {
   "codemirror_mode": {
    "name": "ipython",
    "version": 3
   },
   "file_extension": ".py",
   "mimetype": "text/x-python",
   "name": "python",
   "nbconvert_exporter": "python",
   "pygments_lexer": "ipython3",
   "version": "3.9.2"
  }
 },
 "nbformat": 4,
 "nbformat_minor": 5
}
