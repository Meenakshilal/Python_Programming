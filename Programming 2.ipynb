{
 "cells": [
  {
   "cell_type": "code",
   "execution_count": null,
   "metadata": {},
   "outputs": [],
   "source": [
    "1.Write a Python program to convert kilometers to miles?\n"
   ]
  },
  {
   "cell_type": "code",
   "execution_count": 13,
   "metadata": {},
   "outputs": [
    {
     "name": "stdout",
     "output_type": "stream",
     "text": [
      "Enter the Kilometer to convert into miles: 45\n",
      "45 km are equal to 27.96165 miles\n"
     ]
    }
   ],
   "source": [
    "KM= int(input(\"Enter the Kilometer to convert into miles: \"))\n",
    "Miles= KM * 0.62137\n",
    "print (\"{} km are equal to {} miles\".format(KM, Miles))"
   ]
  },
  {
   "cell_type": "code",
   "execution_count": null,
   "metadata": {},
   "outputs": [],
   "source": [
    "2.Write a Python program to convert Celsius to Fahrenheit?\n"
   ]
  },
  {
   "cell_type": "code",
   "execution_count": 14,
   "metadata": {},
   "outputs": [
    {
     "name": "stdout",
     "output_type": "stream",
     "text": [
      "Enter the Celcius to convert into Fahrenheit: 45\n",
      "45 celcius is equal to 113.0 fahrenheits\n"
     ]
    }
   ],
   "source": [
    "C=int(input(\"Enter the Celcius to convert into Fahrenheit: \"))\n",
    "F= (C * 9/5) + 32\n",
    "print(\"{} celcius is equal to {} fahrenheits\". format(C,F))"
   ]
  },
  {
   "cell_type": "code",
   "execution_count": null,
   "metadata": {},
   "outputs": [],
   "source": [
    "3.Write a Python program to display calendar?\n"
   ]
  },
  {
   "cell_type": "code",
   "execution_count": 16,
   "metadata": {},
   "outputs": [
    {
     "name": "stdout",
     "output_type": "stream",
     "text": [
      "enter the year2022\n",
      "enter the month01\n",
      "    January 2022\n",
      "Mo Tu We Th Fr Sa Su\n",
      "                1  2\n",
      " 3  4  5  6  7  8  9\n",
      "10 11 12 13 14 15 16\n",
      "17 18 19 20 21 22 23\n",
      "24 25 26 27 28 29 30\n",
      "31\n",
      "\n"
     ]
    }
   ],
   "source": [
    "import calendar\n",
    "year= int(input(\"enter the year\"))\n",
    "month= int(input(\"enter the month\"))\n",
    "print(calendar.month(year,month))"
   ]
  },
  {
   "cell_type": "code",
   "execution_count": null,
   "metadata": {},
   "outputs": [],
   "source": [
    "4.Write a Python program to solve quadratic equation?\n"
   ]
  },
  {
   "cell_type": "code",
   "execution_count": 18,
   "metadata": {},
   "outputs": [
    {
     "name": "stdout",
     "output_type": "stream",
     "text": [
      "enter the value of a: 1\n",
      "enter the value of b: -5\n",
      "enter the value of c: 6\n",
      "the solutions are 2.0 and 3.0\n"
     ]
    }
   ],
   "source": [
    " ##in order to solve a quadratic equation we have to find the value of 'x' \n",
    "import math\n",
    "a=float(input(\"enter the value of a: \"))\n",
    "b=float(input(\"enter the value of b: \"))\n",
    "c=float(input(\"enter the value of c: \"))\n",
    "\n",
    "d=math.sqrt((b**2) - (4*a*c))\n",
    "Sol1= (-b-d)/2*a\n",
    "Sol2= (-b+d)/2*a\n",
    "print(\"the solutions are {} and {}\". format(Sol1,Sol2))"
   ]
  },
  {
   "cell_type": "code",
   "execution_count": null,
   "metadata": {},
   "outputs": [],
   "source": [
    "5.Write a Python program to swap two variables without temp variable?"
   ]
  },
  {
   "cell_type": "code",
   "execution_count": 19,
   "metadata": {},
   "outputs": [
    {
     "name": "stdout",
     "output_type": "stream",
     "text": [
      "x before swapping: Hi\n",
      "y before swapping: Bye\n",
      "x after swapping: Bye\n",
      "y after swapping: Hi\n"
     ]
    }
   ],
   "source": [
    "x=\"Hi\"\n",
    "y=\"Bye\"\n",
    "print(\"x before swapping: {}\".format(x))\n",
    "print(\"y before swapping: {}\".format(y))\n",
    "x,y=y,x\n",
    "print(\"x after swapping: {}\".format(x))\n",
    "print(\"y after swapping: {}\".format(y))\n"
   ]
  }
 ],
 "metadata": {
  "kernelspec": {
   "display_name": "Python 3",
   "language": "python",
   "name": "python3"
  },
  "language_info": {
   "codemirror_mode": {
    "name": "ipython",
    "version": 3
   },
   "file_extension": ".py",
   "mimetype": "text/x-python",
   "name": "python",
   "nbconvert_exporter": "python",
   "pygments_lexer": "ipython3",
   "version": "3.8.5"
  }
 },
 "nbformat": 4,
 "nbformat_minor": 4
}
