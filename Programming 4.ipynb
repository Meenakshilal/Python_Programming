{
 "cells": [
  {
   "cell_type": "markdown",
   "metadata": {},
   "source": [
    "1.Write a Python Program to Find the Factorial of a Number?"
   ]
  },
  {
   "cell_type": "code",
   "execution_count": 3,
   "metadata": {},
   "outputs": [
    {
     "name": "stdout",
     "output_type": "stream",
     "text": [
      "enter the number to find factorial: 6\n",
      "Factorial of 6 is 720\n"
     ]
    }
   ],
   "source": [
    "num=int(input(\"enter the number to find factorial: \"))\n",
    "fact=1\n",
    "for i in range(1,num+1):\n",
    "    fact= fact * i\n",
    "print(\"Factorial of {} is {}\".format(num,fact))"
   ]
  },
  {
   "cell_type": "markdown",
   "metadata": {},
   "source": [
    "2.Write a Python Program to Display the multiplication Table?"
   ]
  },
  {
   "cell_type": "code",
   "execution_count": 6,
   "metadata": {},
   "outputs": [
    {
     "name": "stdout",
     "output_type": "stream",
     "text": [
      "enter the number to see its table: 2\n",
      "2  x 1  =  2\n",
      "2  x 2  =  4\n",
      "2  x 3  =  6\n",
      "2  x 4  =  8\n",
      "2  x 5  =  10\n",
      "2  x 6  =  12\n",
      "2  x 7  =  14\n",
      "2  x 8  =  16\n",
      "2  x 9  =  18\n",
      "2  x 10  =  20\n"
     ]
    }
   ],
   "source": [
    "num=int(input(\"enter the number to see its table: \"))\n",
    "for i in range(1,11):\n",
    "    print(num, \" x\", i ,\" = \", num*i)"
   ]
  },
  {
   "cell_type": "markdown",
   "metadata": {},
   "source": [
    "3.Write a Python Program to Print the Fibonacci sequence?"
   ]
  },
  {
   "cell_type": "code",
   "execution_count": 8,
   "metadata": {},
   "outputs": [
    {
     "name": "stdout",
     "output_type": "stream",
     "text": [
      "Enter the number to see its fibonacci sequence: 10\n",
      "0\n",
      "1\n",
      "1\n",
      "2\n",
      "3\n",
      "5\n",
      "8\n",
      "13\n",
      "21\n",
      "34\n",
      "55\n"
     ]
    }
   ],
   "source": [
    "num=int(input(\"Enter the number to see its fibonacci sequence: \"))\n",
    "first=0\n",
    "second = 1\n",
    "for i in range(0,num+1):\n",
    "    print(first)\n",
    "    temp = first\n",
    "    first= second\n",
    "    second=temp + first\n",
    "    "
   ]
  },
  {
   "cell_type": "markdown",
   "metadata": {},
   "source": [
    "4.Write a Python Program to Check Armstrong Number?"
   ]
  },
  {
   "cell_type": "code",
   "execution_count": 24,
   "metadata": {},
   "outputs": [
    {
     "name": "stdout",
     "output_type": "stream",
     "text": [
      "Enter the number to see if its Amstrong number or not: 8208\n",
      "8208  is a Amstrong number.\n"
     ]
    }
   ],
   "source": [
    "num=input(\"Enter the number to see if its Amstrong number or not: \")\n",
    "Length= len(num)\n",
    "x=0\n",
    "for i in range(0,Length):\n",
    "    x+= int(num[i])**int(Length)\n",
    "if x == int(num):\n",
    "    print(num,\" is a Amstrong number.\")\n",
    "else:\n",
    "    print(num, \" is not a Amstrong number.\")"
   ]
  },
  {
   "cell_type": "markdown",
   "metadata": {},
   "source": [
    "5.Write a Python Program to Find Armstrong Number in an Interval?"
   ]
  },
  {
   "cell_type": "code",
   "execution_count": 5,
   "metadata": {},
   "outputs": [
    {
     "name": "stdout",
     "output_type": "stream",
     "text": [
      "Enter the first number of range: 100\n",
      "Enter the last number of range: 10000\n",
      "Amstrong numbers between 100 and 10000 are as follows:\n",
      "153\n",
      "370\n",
      "371\n",
      "407\n",
      "1634\n",
      "8208\n",
      "9474\n"
     ]
    }
   ],
   "source": [
    "x = int(input(\"Enter the first number of range: \"))\n",
    "y = int(input(\"Enter the last number of range: \"))\n",
    "print(\"Amstrong numbers between {} and {} are as follows:\".format(x,y))\n",
    "for i in range(x,y+1):\n",
    "    \n",
    "    length = len(str(i))\n",
    "    \n",
    "    sum = 0\n",
    "    \n",
    "    temp = i\n",
    "    \n",
    "    while temp > 0:\n",
    "        sum += (temp % 10) ** length\n",
    "        temp //= 10\n",
    "    if i == sum:\n",
    "        print(i)"
   ]
  },
  {
   "cell_type": "markdown",
   "metadata": {},
   "source": [
    "6.Write a Python Program to Find the Sum of Natural Numbers?"
   ]
  },
  {
   "cell_type": "code",
   "execution_count": 7,
   "metadata": {},
   "outputs": [
    {
     "name": "stdout",
     "output_type": "stream",
     "text": [
      "Enter the number upto which you want the sum: 50\n",
      "the sum is  1275\n"
     ]
    }
   ],
   "source": [
    "num=int(input(\"Enter the number upto which you want the sum: \"))\n",
    "if num < 0:\n",
    "    print(\"enter a positive number\")\n",
    "else:\n",
    "    sum = 0\n",
    "    while num > 0:\n",
    "        sum += num\n",
    "        num -= 1\n",
    "    print(\"the sum is \", sum)"
   ]
  },
  {
   "cell_type": "code",
   "execution_count": null,
   "metadata": {},
   "outputs": [],
   "source": []
  }
 ],
 "metadata": {
  "kernelspec": {
   "display_name": "Python 3",
   "language": "python",
   "name": "python3"
  },
  "language_info": {
   "codemirror_mode": {
    "name": "ipython",
    "version": 3
   },
   "file_extension": ".py",
   "mimetype": "text/x-python",
   "name": "python",
   "nbconvert_exporter": "python",
   "pygments_lexer": "ipython3",
   "version": "3.8.5"
  }
 },
 "nbformat": 4,
 "nbformat_minor": 4
}
