{
 "cells": [
  {
   "cell_type": "markdown",
   "id": "824af599",
   "metadata": {},
   "source": [
    "### It is used to store data. It provides flexibility to check what is wrong with the program. We can keep track of everything from exceptional handling to debugging."
   ]
  },
  {
   "cell_type": "code",
   "execution_count": 1,
   "id": "a48db429",
   "metadata": {},
   "outputs": [],
   "source": [
    " import logging"
   ]
  },
  {
   "cell_type": "code",
   "execution_count": 2,
   "id": "e9c6065e",
   "metadata": {},
   "outputs": [],
   "source": [
    "logging.basicConfig(filename = \"test.log\")"
   ]
  },
  {
   "cell_type": "code",
   "execution_count": 3,
   "id": "6c3ade69",
   "metadata": {},
   "outputs": [],
   "source": [
    "logging.debug(\"This is my debug log\")\n",
    "logging.info(\"This is my info log\")\n",
    "logging.warning(\"This is my warning log\")\n",
    "logging.error(\"This is my error log\")\n",
    "logging.critical(\"This is my critical log\")\n"
   ]
  },
  {
   "cell_type": "code",
   "execution_count": 4,
   "id": "70a96ded",
   "metadata": {},
   "outputs": [],
   "source": [
    "# DEBUG\n",
    "# INFO\n",
    "# WARNING\n",
    "# ERROR\n",
    "# CRITICAL"
   ]
  },
  {
   "cell_type": "code",
   "execution_count": 5,
   "id": "95bde7b7",
   "metadata": {},
   "outputs": [],
   "source": [
    "logging.shutdown()"
   ]
  },
  {
   "cell_type": "code",
   "execution_count": 6,
   "id": "0c55f462",
   "metadata": {},
   "outputs": [],
   "source": [
    "logging.basicConfig(filename = \"test2.log\", level = logging.error , format = '%(asctime)s %(levelname)s %(message)s')"
   ]
  },
  {
   "cell_type": "code",
   "execution_count": 7,
   "id": "2f6eb383",
   "metadata": {},
   "outputs": [],
   "source": [
    "logging.debug(\"This is my debug log\")\n",
    "logging.info(\"This is my info log\")\n",
    "logging.warning(\"This is my warning log\")\n",
    "logging.error(\"This is my error log\")\n",
    "logging.critical(\"This is my critical log\")"
   ]
  },
  {
   "cell_type": "markdown",
   "id": "92838e17",
   "metadata": {},
   "source": [
    "# Priority\n",
    "ERROR - only error and critical will show\n",
    "\n",
    "WARNING - critical, error and warning will show\n",
    "\n",
    "INFO - critical, Error, warning and info will show\n",
    "\n",
    "DEBUG - all will show"
   ]
  },
  {
   "cell_type": "code",
   "execution_count": 1,
   "id": "412607e9",
   "metadata": {},
   "outputs": [],
   "source": [
    "import logging"
   ]
  },
  {
   "cell_type": "code",
   "execution_count": 2,
   "id": "74c614e4",
   "metadata": {},
   "outputs": [],
   "source": [
    "logging.basicConfig(filename = \"test1.log\", level = logging.DEBUG, format = '%(asctime)s %(levelname)s %(message)s')"
   ]
  },
  {
   "cell_type": "code",
   "execution_count": 4,
   "id": "223bba91",
   "metadata": {},
   "outputs": [],
   "source": [
    "def divbyzero(a,b):\n",
    "    logging.info(\"this is the start of my code and i am trying to enter {} and {} \".format(a,b))\n",
    "    try:\n",
    "        div = a/b\n",
    "        logging.info(\"executed successfully\")\n",
    "    except Exception as e:\n",
    "        logging.error(\"Error has happened\")\n",
    "        logging.exception(\"Exception occured\" + str(e))"
   ]
  },
  {
   "cell_type": "code",
   "execution_count": 3,
   "id": "7bac1f54",
   "metadata": {},
   "outputs": [],
   "source": [
    "logging.debug(\"This is my debug log\")\n",
    "logging.info(\"This is my info log\")\n",
    "logging.warning(\"This is my warning log\")\n",
    "logging.error(\"This is my error log\")\n",
    "logging.critical(\"This is my critical log\")"
   ]
  },
  {
   "cell_type": "code",
   "execution_count": 6,
   "id": "13baf80e",
   "metadata": {},
   "outputs": [],
   "source": [
    "divbyzero(4,0)"
   ]
  },
  {
   "cell_type": "code",
   "execution_count": 7,
   "id": "cbabd719",
   "metadata": {},
   "outputs": [],
   "source": [
    "divbyzero(4,12)"
   ]
  },
  {
   "cell_type": "code",
   "execution_count": 8,
   "id": "2df96022",
   "metadata": {},
   "outputs": [],
   "source": [
    "logging.shutdown()"
   ]
  },
  {
   "cell_type": "code",
   "execution_count": null,
   "id": "7045a188",
   "metadata": {},
   "outputs": [],
   "source": []
  }
 ],
 "metadata": {
  "kernelspec": {
   "display_name": "Python 3 (ipykernel)",
   "language": "python",
   "name": "python3"
  },
  "language_info": {
   "codemirror_mode": {
    "name": "ipython",
    "version": 3
   },
   "file_extension": ".py",
   "mimetype": "text/x-python",
   "name": "python",
   "nbconvert_exporter": "python",
   "pygments_lexer": "ipython3",
   "version": "3.9.2"
  }
 },
 "nbformat": 4,
 "nbformat_minor": 5
}
