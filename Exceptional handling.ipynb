{
 "cells": [
  {
   "cell_type": "code",
   "execution_count": 1,
   "id": "e50bf221",
   "metadata": {},
   "outputs": [
    {
     "name": "stdout",
     "output_type": "stream",
     "text": [
      "4\n",
      "2\n",
      "5\n",
      "6\n",
      "8\n",
      "9\n",
      "6\n",
      "end of the list\n",
      "this is my OOPS code\n"
     ]
    }
   ],
   "source": [
    "l= [4,2,5,6,8,9,6]\n",
    "try:\n",
    "    for i in range(len(l)+1):\n",
    "        print(l[i])\n",
    "except:\n",
    "    print(\"end of the list\")\n",
    "print(\"this is my OOPS code\")"
   ]
  },
  {
   "cell_type": "code",
   "execution_count": 2,
   "id": "516ebf3f",
   "metadata": {},
   "outputs": [
    {
     "name": "stdout",
     "output_type": "stream",
     "text": [
      "4\n",
      "2\n",
      "5\n",
      "6\n",
      "8\n",
      "9\n",
      "6\n",
      "ERROR:  list index out of range\n",
      "this is my OOPS code\n"
     ]
    }
   ],
   "source": [
    "l= [4,2,5,6,8,9,6]\n",
    "try:\n",
    "    for i in range(len(l)+1):\n",
    "        print(l[i])\n",
    "except Exception as e:\n",
    "    print('ERROR: ',e)\n",
    "print(\"this is my OOPS code\")"
   ]
  },
  {
   "cell_type": "code",
   "execution_count": 4,
   "id": "4bba64fe",
   "metadata": {},
   "outputs": [
    {
     "name": "stdout",
     "output_type": "stream",
     "text": [
      "M\n",
      "invalid literal for int() with base 10: 'M'\n",
      "Hii nefv\n"
     ]
    }
   ],
   "source": [
    "try:\n",
    "    a = int(input())\n",
    "    b = int(input())\n",
    "except Exception as e:\n",
    "    print(e)\n",
    "print(\"Hii nefv\")"
   ]
  },
  {
   "cell_type": "code",
   "execution_count": 10,
   "id": "d5eb06ed",
   "metadata": {},
   "outputs": [
    {
     "name": "stdout",
     "output_type": "stream",
     "text": [
      "m\n",
      "enter integer only\n",
      "1\n",
      "2\n",
      "2\n",
      "Hii nefv\n"
     ]
    }
   ],
   "source": [
    "def fun():\n",
    "    try:\n",
    "        a = int(input())\n",
    "        b = int(input())\n",
    "        print(a*b)\n",
    "    except Exception as e:\n",
    "        print(\"enter integer only\")\n",
    "        fun()\n",
    "fun()\n",
    "print(\"Hii nefv\")"
   ]
  },
  {
   "cell_type": "code",
   "execution_count": 13,
   "id": "21b98cb5",
   "metadata": {},
   "outputs": [
    {
     "name": "stdout",
     "output_type": "stream",
     "text": [
      "this is my handler\n",
      "4\n",
      "5\n",
      "6\n",
      "8\n",
      "9\n",
      "6\n"
     ]
    }
   ],
   "source": [
    "try:\n",
    "    f = open(\"test1\", 'r')\n",
    "    f.write(\"zjhgzkjfhKJKBulznsuhg\")\n",
    "    print(\"zbdfjabjhbdbjhBVsvk\")\n",
    "except:\n",
    "    print(\"this is my handler\")\n",
    "try:\n",
    "    l = [4,5,6,8,9,6]\n",
    "    for i in l:\n",
    "        print(i)\n",
    "except:\n",
    "    print(\"ERROR: it is for series of a list\")"
   ]
  },
  {
   "cell_type": "code",
   "execution_count": 15,
   "id": "d864428c",
   "metadata": {},
   "outputs": [
    {
     "name": "stdout",
     "output_type": "stream",
     "text": [
      "m\n",
      "ERROR:  invalid literal for int() with base 10: 'm'\n"
     ]
    }
   ],
   "source": [
    "try:\n",
    "    d= {\"name\": [\"dheeraj\",'shakti','vikas'], \"age\":[45,68,23], 'id':[45612,568956,235689]}\n",
    "    d['id'] = int(input())\n",
    "except Exception as w:\n",
    "    print(\"ERROR: \",w)"
   ]
  },
  {
   "cell_type": "code",
   "execution_count": 16,
   "id": "691ac455",
   "metadata": {},
   "outputs": [
    {
     "name": "stdout",
     "output_type": "stream",
     "text": [
      "This will execute once try block is executed successfully\n"
     ]
    }
   ],
   "source": [
    "try:\n",
    "    f= open(\"text1.txt\",\"w\")\n",
    "    f.write(\"znfdgkgfajkgfajvfkagjfhvm\")\n",
    "except Exception as e:\n",
    "    print(\"This will handle an error\")\n",
    "else:\n",
    "    print(\"This will execute once try block is executed successfully\")\n",
    "    f.close()"
   ]
  },
  {
   "cell_type": "markdown",
   "id": "da0ede59",
   "metadata": {},
   "source": [
    "# Else block will only work if try block is executed successfully and except block is not."
   ]
  },
  {
   "cell_type": "code",
   "execution_count": 40,
   "id": "7c68e1c5",
   "metadata": {},
   "outputs": [
    {
     "name": "stdout",
     "output_type": "stream",
     "text": [
      "This will handle an error:: not writable\n"
     ]
    }
   ],
   "source": [
    "try:\n",
    "    f= open(\"text1.txt\",\"r\")\n",
    "    f.write(\"znfdgkgfajkgfajvfkagjfhvm\")\n",
    "except Exception as e:\n",
    "    print(\"This will handle an error::\",e)\n",
    "else:\n",
    "    print(\"This will execute once try block is executed successfully\")\n",
    "    f.close()"
   ]
  },
  {
   "cell_type": "markdown",
   "id": "1792cb4c",
   "metadata": {},
   "source": [
    "# Finally block will work everytime irrespective of successful execution of try block"
   ]
  },
  {
   "cell_type": "code",
   "execution_count": 20,
   "id": "50f871de",
   "metadata": {},
   "outputs": [
    {
     "name": "stdout",
     "output_type": "stream",
     "text": [
      "This will handle an error:: not writable\n",
      "it will be executed everytime\n"
     ]
    }
   ],
   "source": [
    "try:\n",
    "    f= open(\"text1.txt\",\"r\")\n",
    "    f.write(\"znfdgkgfajkgfajvfkagjfhvm\")\n",
    "except Exception as e:\n",
    "    print(\"This will handle an error::\",e)\n",
    "finally:\n",
    "    print('it will be executed everytime')"
   ]
  },
  {
   "cell_type": "markdown",
   "id": "a4addf1f",
   "metadata": {},
   "source": [
    "# TRY except can be used anywhere even inside the finally block"
   ]
  },
  {
   "cell_type": "code",
   "execution_count": 21,
   "id": "8e1001ad",
   "metadata": {},
   "outputs": [
    {
     "name": "stdout",
     "output_type": "stream",
     "text": [
      "This will handle an error:: not writable\n",
      "it will be executed everytime\n",
      "ERROR:  [Errno 2] No such file or directory: 'hsdfjh.txt'\n",
      "2nd compulsry finaly line\n"
     ]
    }
   ],
   "source": [
    "try:\n",
    "    f= open(\"text1.txt\",\"r\")\n",
    "    f.write(\"znfdgkgfajkgfajvfkagjfhvm\")\n",
    "except Exception as e:\n",
    "    print(\"This will handle an error::\",e)\n",
    "finally:\n",
    "    print('it will be executed everytime')\n",
    "    try:\n",
    "        f = open(\"hsdfjh.txt\",'r')\n",
    "        f.write(\"shDFakgvj\")\n",
    "    except Exception as ee:\n",
    "        print(\"ERROR: \",ee)\n",
    "    finally:\n",
    "        print(\"2nd compulsry finaly line\")"
   ]
  },
  {
   "cell_type": "code",
   "execution_count": 23,
   "id": "8e010bb2",
   "metadata": {},
   "outputs": [
    {
     "name": "stdout",
     "output_type": "stream",
     "text": [
      "enter a 1st integerm\n",
      "you have not entered an interger invalid literal for int() with base 10: 'm'\n",
      "enter a 1st integer1\n",
      "enter a 2nd integerm\n",
      "you have not entered an interger invalid literal for int() with base 10: 'm'\n",
      "enter a 1st integer1\n",
      "enter a 2nd integer50\n",
      "50\n"
     ]
    }
   ],
   "source": [
    "def num():\n",
    "    try:\n",
    "        a = int(input(\"enter a 1st integer\"))\n",
    "        b= int(input(\"enter a 2nd integer\"))\n",
    "        return(a*b)\n",
    "    except Exception as e:\n",
    "        print (\"you have not entered an interger\", e)\n",
    "        num()\n",
    "num()"
   ]
  },
  {
   "cell_type": "code",
   "execution_count": 28,
   "id": "b28e6e2f",
   "metadata": {},
   "outputs": [
    {
     "name": "stdout",
     "output_type": "stream",
     "text": [
      "enter an integerm\n",
      "No it is not an integer\n",
      "enter an integerhjk\n",
      "No it is not an integer\n",
      "enter an integer12\n"
     ]
    },
    {
     "data": {
      "text/plain": [
       "(12, 'yes it is an integer')"
      ]
     },
     "execution_count": 28,
     "metadata": {},
     "output_type": "execute_result"
    }
   ],
   "source": [
    "def fun1():\n",
    "    flag = True\n",
    "    while flag:\n",
    "        try:\n",
    "            a= int(input(\"enter an integer\"))\n",
    "            return (a, \"yes it is an integer\")\n",
    "            flag = False\n",
    "        except Exception as e:\n",
    "            print (\"No it is not an integer\")\n",
    "fun1()"
   ]
  },
  {
   "cell_type": "markdown",
   "id": "5beaed55",
   "metadata": {},
   "source": [
    "# How to raise our own exception with our own conditions"
   ]
  },
  {
   "cell_type": "code",
   "execution_count": 35,
   "id": "2eea0c5d",
   "metadata": {},
   "outputs": [],
   "source": [
    "def test(a):\n",
    "    if a<0:\n",
    "        raise Exception(\"Value should be more than 0\")\n",
    "    return \"Value should be more than 0\""
   ]
  },
  {
   "cell_type": "code",
   "execution_count": 36,
   "id": "dbbc1750",
   "metadata": {},
   "outputs": [
    {
     "ename": "Exception",
     "evalue": "Value should be more than 0",
     "output_type": "error",
     "traceback": [
      "\u001b[1;31m---------------------------------------------------------------------------\u001b[0m",
      "\u001b[1;31mException\u001b[0m                                 Traceback (most recent call last)",
      "Input \u001b[1;32mIn [36]\u001b[0m, in \u001b[0;36m<module>\u001b[1;34m\u001b[0m\n\u001b[1;32m----> 1\u001b[0m \u001b[43mtest\u001b[49m\u001b[43m(\u001b[49m\u001b[38;5;241;43m-\u001b[39;49m\u001b[38;5;241;43m1\u001b[39;49m\u001b[43m)\u001b[49m\n",
      "Input \u001b[1;32mIn [35]\u001b[0m, in \u001b[0;36mtest\u001b[1;34m(a)\u001b[0m\n\u001b[0;32m      1\u001b[0m \u001b[38;5;28;01mdef\u001b[39;00m \u001b[38;5;21mtest\u001b[39m(a):\n\u001b[0;32m      2\u001b[0m     \u001b[38;5;28;01mif\u001b[39;00m a\u001b[38;5;241m<\u001b[39m\u001b[38;5;241m0\u001b[39m:\n\u001b[1;32m----> 3\u001b[0m         \u001b[38;5;28;01mraise\u001b[39;00m \u001b[38;5;167;01mException\u001b[39;00m(\u001b[38;5;124m\"\u001b[39m\u001b[38;5;124mValue should be more than 0\u001b[39m\u001b[38;5;124m\"\u001b[39m)\n\u001b[0;32m      4\u001b[0m     \u001b[38;5;28;01mreturn\u001b[39;00m \u001b[38;5;124m\"\u001b[39m\u001b[38;5;124mValue should be more than 0\u001b[39m\u001b[38;5;124m\"\u001b[39m\n",
      "\u001b[1;31mException\u001b[0m: Value should be more than 0"
     ]
    }
   ],
   "source": [
    "test(-1)"
   ]
  },
  {
   "cell_type": "code",
   "execution_count": 39,
   "id": "b85483f9",
   "metadata": {},
   "outputs": [
    {
     "name": "stdout",
     "output_type": "stream",
     "text": [
      "-1\n",
      "calling my raised exception\n"
     ]
    }
   ],
   "source": [
    "try:\n",
    "    a = input()\n",
    "    test(a)\n",
    "except Exception as e:\n",
    "    print(\"calling my raised exception\")"
   ]
  },
  {
   "cell_type": "code",
   "execution_count": null,
   "id": "2ccbecc8",
   "metadata": {},
   "outputs": [],
   "source": []
  }
 ],
 "metadata": {
  "kernelspec": {
   "display_name": "Python 3 (ipykernel)",
   "language": "python",
   "name": "python3"
  },
  "language_info": {
   "codemirror_mode": {
    "name": "ipython",
    "version": 3
   },
   "file_extension": ".py",
   "mimetype": "text/x-python",
   "name": "python",
   "nbconvert_exporter": "python",
   "pygments_lexer": "ipython3",
   "version": "3.9.2"
  }
 },
 "nbformat": 4,
 "nbformat_minor": 5
}
